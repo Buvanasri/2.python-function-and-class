{
 "cells": [
  {
   "cell_type": "code",
   "execution_count": 1,
   "id": "43cf48c8",
   "metadata": {},
   "outputs": [],
   "source": [
    "from library import multiplefuction"
   ]
  },
  {
   "cell_type": "code",
   "execution_count": 3,
   "id": "de5cb548",
   "metadata": {},
   "outputs": [
    {
     "name": "stdout",
     "output_type": "stream",
     "text": [
      "Enter a number:52452\n",
      "52452 is even number\n"
     ]
    }
   ],
   "source": [
    "multiplefuction.oddeven()"
   ]
  },
  {
   "cell_type": "code",
   "execution_count": 5,
   "id": "40126782",
   "metadata": {},
   "outputs": [
    {
     "name": "stdout",
     "output_type": "stream",
     "text": [
      "subfields in ai are:\n",
      "Machine learning\n",
      "Neural Networks\n",
      "Vision\n",
      "Robotics\n",
      "Speech Processing\n",
      "Natural language process\n"
     ]
    }
   ],
   "source": [
    "multiplefuction.subfields()"
   ]
  },
  {
   "cell_type": "code",
   "execution_count": 6,
   "id": "eaadc5de",
   "metadata": {},
   "outputs": [
    {
     "name": "stdout",
     "output_type": "stream",
     "text": [
      "your sex:male\n",
      "your age:20\n",
      "not eligible\n"
     ]
    }
   ],
   "source": [
    "multiplefuction.mrgeligibility()"
   ]
  },
  {
   "cell_type": "code",
   "execution_count": 7,
   "id": "a547357a",
   "metadata": {},
   "outputs": [
    {
     "name": "stdout",
     "output_type": "stream",
     "text": [
      "total: 483\n",
      "percentage: 96.6\n"
     ]
    }
   ],
   "source": [
    "multiplefuction.percentage()"
   ]
  },
  {
   "cell_type": "code",
   "execution_count": 8,
   "id": "ebe1373e",
   "metadata": {},
   "outputs": [
    {
     "name": "stdout",
     "output_type": "stream",
     "text": [
      "height:10\n",
      "breadh:5\n",
      "area of triangle: 25.0\n",
      "height1:101\n",
      "height2:120\n",
      "breadh1:10\n",
      "perimeter of triangle: 231\n"
     ]
    }
   ],
   "source": [
    "multiplefuction.triangle()"
   ]
  },
  {
   "cell_type": "code",
   "execution_count": null,
   "id": "3098662a",
   "metadata": {},
   "outputs": [],
   "source": []
  }
 ],
 "metadata": {
  "kernelspec": {
   "display_name": "Python 3 (ipykernel)",
   "language": "python",
   "name": "python3"
  },
  "language_info": {
   "codemirror_mode": {
    "name": "ipython",
    "version": 3
   },
   "file_extension": ".py",
   "mimetype": "text/x-python",
   "name": "python",
   "nbconvert_exporter": "python",
   "pygments_lexer": "ipython3",
   "version": "3.11.5"
  }
 },
 "nbformat": 4,
 "nbformat_minor": 5
}
