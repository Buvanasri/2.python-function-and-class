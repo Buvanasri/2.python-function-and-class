{
 "cells": [
  {
   "cell_type": "code",
   "execution_count": 43,
   "id": "f371d11f",
   "metadata": {},
   "outputs": [],
   "source": [
    "def subfields():\n",
    "    print(\"subfields in ai are:\")\n",
    "    lists=[\"Machine learning\",\"Neural Networks\",\"Vision\",\"Robotics\",\"Speech Processing\",\"Natural language process\"]\n",
    "    for field in lists:\n",
    "        print(field)      "
   ]
  },
  {
   "cell_type": "code",
   "execution_count": 44,
   "id": "9a31b612",
   "metadata": {},
   "outputs": [
    {
     "name": "stdout",
     "output_type": "stream",
     "text": [
      "subfields in ai are:\n",
      "Machine learning\n",
      "Neural Networks\n",
      "Vision\n",
      "Robotics\n",
      "Speech Processing\n",
      "Natural language process\n"
     ]
    }
   ],
   "source": [
    "subfields()"
   ]
  },
  {
   "cell_type": "code",
   "execution_count": 45,
   "id": "dff94199",
   "metadata": {},
   "outputs": [],
   "source": [
    "def oddeven():\n",
    "    num=int(input(\"Enter a number:\"))\n",
    "    if(num%2==0):\n",
    "        print(\"52452 is even number\")\n",
    "        msg=\"52452 is even number\"\n",
    "    else:\n",
    "        print(\"52452 is odd number\")\n",
    "        msg=\"52452 is odd number\"\n",
    "        return msg\n",
    "        "
   ]
  },
  {
   "cell_type": "code",
   "execution_count": 46,
   "id": "3e4e7fcd",
   "metadata": {},
   "outputs": [
    {
     "name": "stdout",
     "output_type": "stream",
     "text": [
      "Enter a number:52452\n",
      "52452 is even number\n"
     ]
    }
   ],
   "source": [
    "msg=oddeven()"
   ]
  },
  {
   "cell_type": "code",
   "execution_count": 37,
   "id": "1b48e8d5",
   "metadata": {},
   "outputs": [],
   "source": [
    "def mrgeligibility():\n",
    "    sex=input(\"your sex:\")\n",
    "    age=int(input(\"your age:\"))\n",
    "    if(sex==\"male\"):\n",
    "        if(age>=21):\n",
    "            print(\"eligible\")\n",
    "        else:\n",
    "            print(\"not eligible\")\n",
    "    elif(sex==\"female\"):\n",
    "        if(age>=18):\n",
    "           print(\"eligible\")\n",
    "        else:\n",
    "           print(\"not eligible\")\n",
    "    else:\n",
    "        print(\"invalid\")\n",
    "        return\n",
    "   \n",
    "   "
   ]
  },
  {
   "cell_type": "code",
   "execution_count": 41,
   "id": "2dba1593",
   "metadata": {},
   "outputs": [
    {
     "name": "stdout",
     "output_type": "stream",
     "text": [
      "your sex:female\n",
      "your age:18\n",
      "eligible\n"
     ]
    }
   ],
   "source": [
    "mrgeligibility()"
   ]
  },
  {
   "cell_type": "code",
   "execution_count": 17,
   "id": "e1df1fde",
   "metadata": {},
   "outputs": [],
   "source": [
    "def percentage():\n",
    "    sub1=98\n",
    "    sub2=99\n",
    "    sub3=100\n",
    "    sub4=91\n",
    "    sub5=95\n",
    "    total=(sub1+sub2+sub3+sub4+sub5)\n",
    "    totalsub=5\n",
    "    print(\"total:\",total)\n",
    "    percentage=(total/(totalsub*100))*100\n",
    "    print(\"percentage:\",percentage)\n",
    "    return\n",
    "    "
   ]
  },
  {
   "cell_type": "code",
   "execution_count": 18,
   "id": "620f9b6b",
   "metadata": {},
   "outputs": [
    {
     "name": "stdout",
     "output_type": "stream",
     "text": [
      "total: 483\n",
      "percentage: 96.6\n"
     ]
    }
   ],
   "source": [
    "percentage()"
   ]
  },
  {
   "cell_type": "code",
   "execution_count": 34,
   "id": "5fb27fbc",
   "metadata": {},
   "outputs": [],
   "source": [
    "def triangle():\n",
    "    height=int(input(\"height:\"))\n",
    "    breadh=int(input(\"breadh:\"))\n",
    "    area=(height*breadh)/2\n",
    "    print(\"area of triangle:\",area)\n",
    "    height1=int(input(\"height1:\"))\n",
    "    height2=int(input(\"height2:\"))\n",
    "    breadh1=int(input(\"breadh1:\"))\n",
    "    perimeter=height1+height2+breadh1\n",
    "    print(\"perimeter of triangle:\",perimeter)\n",
    "    \n",
    "\n",
    "\n",
    "\n",
    "    \n",
    "    "
   ]
  },
  {
   "cell_type": "code",
   "execution_count": 35,
   "id": "a364e45a",
   "metadata": {},
   "outputs": [
    {
     "name": "stdout",
     "output_type": "stream",
     "text": [
      "height:10\n",
      "breadh:5\n",
      "area of triangle: 25.0\n",
      "height1:101\n",
      "height2:120\n",
      "breadh1:10\n",
      "perimeter of triangle: 231\n"
     ]
    }
   ],
   "source": [
    "triangle()"
   ]
  },
  {
   "cell_type": "code",
   "execution_count": null,
   "id": "9ce7a518",
   "metadata": {},
   "outputs": [],
   "source": []
  }
 ],
 "metadata": {
  "kernelspec": {
   "display_name": "Python 3 (ipykernel)",
   "language": "python",
   "name": "python3"
  },
  "language_info": {
   "codemirror_mode": {
    "name": "ipython",
    "version": 3
   },
   "file_extension": ".py",
   "mimetype": "text/x-python",
   "name": "python",
   "nbconvert_exporter": "python",
   "pygments_lexer": "ipython3",
   "version": "3.11.5"
  }
 },
 "nbformat": 4,
 "nbformat_minor": 5
}
